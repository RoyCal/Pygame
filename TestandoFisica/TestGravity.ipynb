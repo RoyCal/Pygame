{
 "cells": [
  {
   "cell_type": "code",
   "execution_count": 1,
   "metadata": {},
   "outputs": [
    {
     "name": "stdout",
     "output_type": "stream",
     "text": [
      "pygame 2.1.2 (SDL 2.0.18, Python 3.10.4)\n",
      "Hello from the pygame community. https://www.pygame.org/contribute.html\n"
     ]
    },
    {
     "ename": "SystemExit",
     "evalue": "",
     "output_type": "error",
     "traceback": [
      "An exception has occurred, use %tb to see the full traceback.\n",
      "\u001b[1;31mSystemExit\u001b[0m\n"
     ]
    },
    {
     "name": "stderr",
     "output_type": "stream",
     "text": [
      "c:\\Users\\vitoe\\AppData\\Local\\Programs\\Python\\Python310\\lib\\site-packages\\IPython\\core\\interactiveshell.py:3405: UserWarning: To exit: use 'exit', 'quit', or Ctrl-D.\n",
      "  warn(\"To exit: use 'exit', 'quit', or Ctrl-D.\", stacklevel=1)\n"
     ]
    }
   ],
   "source": [
    "import pygame\n",
    "from pygame.locals import *\n",
    "from sys import exit\n",
    "\n",
    "pygame.init()\n",
    "\n",
    "largura = 640\n",
    "altura = 480\n",
    "\n",
    "tela = pygame.display.set_mode((largura, altura))\n",
    "pygame.display.set_caption('Jogo')\n",
    "relogio = pygame.time.Clock()\n",
    "\n",
    "v0x = 0\n",
    "tempox = 0.0\n",
    "s0x = 200\n",
    "vx = 0.25\n",
    "rest_coeffx = 2\n",
    "\n",
    "v0y = -50\n",
    "tempoy = 0.0\n",
    "s0y = 200\n",
    "vy = 0.25\n",
    "rest_coeffy = 1.3\n",
    "\n",
    "posicoesy = []\n",
    "\n",
    "def funcao_horaria_posicao_y(v_inicial, tempo, p_inicial):\n",
    "    return p_inicial + v_inicial * tempo + 0.5 * 10 * (tempo**2)\n",
    "\n",
    "def funcao_horaria_posicao_x(v_inicial, tempo, p_inicial):\n",
    "    return p_inicial + v_inicial * tempo\n",
    "\n",
    "def velocidade(delta_s, delta_t):\n",
    "    return delta_s / delta_t\n",
    "\n",
    "while True:\n",
    "    relogio.tick(60)\n",
    "    tela.fill((255, 255, 255))\n",
    "\n",
    "    tempoy = tempoy + vy\n",
    "    tempox = tempox + vx\n",
    "\n",
    "    x_bloco = funcao_horaria_posicao_x(v0x, tempox, s0x)\n",
    "    y_bloco = funcao_horaria_posicao_y(v0y, tempoy, s0y)\n",
    "\n",
    "    posicoesy.append(y_bloco)\n",
    "\n",
    "    if len(posicoesy) == 3:\n",
    "        posicoesy.pop(0)\n",
    "\n",
    "    for event in pygame.event.get():\n",
    "        if event.type == QUIT:\n",
    "            pygame.quit()\n",
    "            exit()\n",
    "\n",
    "        if event.type == KEYDOWN:\n",
    "            if event.key == K_SPACE:\n",
    "                tempoy = 0\n",
    "                v0y = -50\n",
    "                s0y = y_bloco\n",
    "            \n",
    "            if event.key == K_d:\n",
    "                tempox = 0\n",
    "                v0x += 10\n",
    "                s0x = x_bloco\n",
    "\n",
    "            if event.key == K_a:\n",
    "                tempox = 0\n",
    "                v0x -= 10\n",
    "                s0x = x_bloco\n",
    "\n",
    "    pygame.draw.circle(tela, (255, 0, 0), (x_bloco, y_bloco), 20.0)\n",
    "\n",
    "    if y_bloco > altura - 20:\n",
    "        v0y = velocidade(posicoesy[0] - posicoesy[1], vy) / rest_coeffy\n",
    "        tempoy = 0\n",
    "        s0y = altura - 20\n",
    "\n",
    "    if x_bloco < 20:\n",
    "        v0x /= -rest_coeffx\n",
    "        tempox = 0\n",
    "        s0x = 20\n",
    "\n",
    "    if x_bloco > largura - 20:\n",
    "        v0x /= -rest_coeffx\n",
    "        tempox = 0\n",
    "        s0x = largura - 20\n",
    "    \n",
    "    pygame.display.update()"
   ]
  }
 ],
 "metadata": {
  "kernelspec": {
   "display_name": "Python 3.10.4 64-bit",
   "language": "python",
   "name": "python3"
  },
  "language_info": {
   "codemirror_mode": {
    "name": "ipython",
    "version": 3
   },
   "file_extension": ".py",
   "mimetype": "text/x-python",
   "name": "python",
   "nbconvert_exporter": "python",
   "pygments_lexer": "ipython3",
   "version": "3.10.4"
  },
  "orig_nbformat": 4,
  "vscode": {
   "interpreter": {
    "hash": "f38d4dc4e11e7c1d6ad8c168fd5f0ba4308c0a077bdca1d8bc05049158d620ba"
   }
  }
 },
 "nbformat": 4,
 "nbformat_minor": 2
}
